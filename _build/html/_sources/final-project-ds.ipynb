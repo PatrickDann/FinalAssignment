{
 "cells": [
  {
   "cell_type": "markdown",
   "metadata": {},
   "source": [
    "# Disney Movie Data Analysis\n",
    "By Patrick Dann"
   ]
  },
  {
   "attachments": {},
   "cell_type": "markdown",
   "metadata": {},
   "source": [
    "## Introduction\n",
    "\n",
    "Back to [Intro](intro.md)."
   ]
  },
  {
   "attachments": {},
   "cell_type": "markdown",
   "metadata": {},
   "source": [
    "## Question of Intrest \n",
    "\n",
    "In this analysis I will see which disney director has the highest average gross earnings for the Disney films they directed after inflation. There are many factors which can influence the gross earnings of a film. By looking at the average earning of a directors movies you look at other factors which may have influenced a movies earnings to  be below or above average for a director. "
   ]
  },
  {
   "attachments": {},
   "cell_type": "markdown",
   "metadata": {},
   "source": [
    "## Dataset Description \n",
    "\n",
    "The Disney Data set has 5 tables: disney-characters.csv, disney-director.csv, disney-voice-actors.csv, disney_revenue_1991-2016.csv, disney_movies_total_gross.csv. They obtained from: https://data.world/kgarrett/disney-character-success-00-16 \n",
    "\n",
    "I will examine the disney-director.csv and disney_movies_total_gross.csv files. \n"
   ]
  },
  {
   "attachments": {},
   "cell_type": "markdown",
   "metadata": {},
   "source": [
    "## Methods and Results\n",
    "\n",
    "I will import the disney_movies_total_gross and disney-director tables since I want to look at disney movies gross by director."
   ]
  },
  {
   "cell_type": "code",
   "execution_count": 6,
   "metadata": {
    "tags": [
     "hide-input"
    ]
   },
   "outputs": [],
   "source": [
    "import altair as alt\n",
    "import pandas as pd \n",
    "\n",
    "# Import all required files \n",
    "movies_total_gross = pd.read_csv(r'C:\\Users\\ichir\\Documents\\final-assignment/disney_movies_total_gross.csv')\n",
    "disney_directors = pd.read_csv(r'C:\\Users\\ichir\\Documents\\final-assignment\\disney-director.csv')\n"
   ]
  },
  {
   "cell_type": "code",
   "execution_count": 7,
   "metadata": {},
   "outputs": [
    {
     "data": {
      "text/html": [
       "<div>\n",
       "<style scoped>\n",
       "    .dataframe tbody tr th:only-of-type {\n",
       "        vertical-align: middle;\n",
       "    }\n",
       "\n",
       "    .dataframe tbody tr th {\n",
       "        vertical-align: top;\n",
       "    }\n",
       "\n",
       "    .dataframe thead th {\n",
       "        text-align: right;\n",
       "    }\n",
       "</style>\n",
       "<table border=\"1\" class=\"dataframe\">\n",
       "  <thead>\n",
       "    <tr style=\"text-align: right;\">\n",
       "      <th></th>\n",
       "      <th>movie_title</th>\n",
       "      <th>release_date</th>\n",
       "      <th>genre</th>\n",
       "      <th>MPAA_rating</th>\n",
       "      <th>total_gross</th>\n",
       "      <th>inflation_adjusted_gross</th>\n",
       "    </tr>\n",
       "  </thead>\n",
       "  <tbody>\n",
       "    <tr>\n",
       "      <th>0</th>\n",
       "      <td>Snow White and the Seven Dwarfs</td>\n",
       "      <td>Dec 21, 1937</td>\n",
       "      <td>Musical</td>\n",
       "      <td>G</td>\n",
       "      <td>$184,925,485</td>\n",
       "      <td>$5,228,953,251</td>\n",
       "    </tr>\n",
       "    <tr>\n",
       "      <th>1</th>\n",
       "      <td>Pinocchio</td>\n",
       "      <td>Feb 9, 1940</td>\n",
       "      <td>Adventure</td>\n",
       "      <td>G</td>\n",
       "      <td>$84,300,000</td>\n",
       "      <td>$2,188,229,052</td>\n",
       "    </tr>\n",
       "    <tr>\n",
       "      <th>2</th>\n",
       "      <td>Fantasia</td>\n",
       "      <td>Nov 13, 1940</td>\n",
       "      <td>Musical</td>\n",
       "      <td>G</td>\n",
       "      <td>$83,320,000</td>\n",
       "      <td>$2,187,090,808</td>\n",
       "    </tr>\n",
       "    <tr>\n",
       "      <th>3</th>\n",
       "      <td>Song of the South</td>\n",
       "      <td>Nov 12, 1946</td>\n",
       "      <td>Adventure</td>\n",
       "      <td>G</td>\n",
       "      <td>$65,000,000</td>\n",
       "      <td>$1,078,510,579</td>\n",
       "    </tr>\n",
       "    <tr>\n",
       "      <th>4</th>\n",
       "      <td>Cinderella</td>\n",
       "      <td>Feb 15, 1950</td>\n",
       "      <td>Drama</td>\n",
       "      <td>G</td>\n",
       "      <td>$85,000,000</td>\n",
       "      <td>$920,608,730</td>\n",
       "    </tr>\n",
       "  </tbody>\n",
       "</table>\n",
       "</div>"
      ],
      "text/plain": [
       "                       movie_title  release_date      genre MPAA_rating  \\\n",
       "0  Snow White and the Seven Dwarfs  Dec 21, 1937    Musical           G   \n",
       "1                        Pinocchio   Feb 9, 1940  Adventure           G   \n",
       "2                         Fantasia  Nov 13, 1940    Musical           G   \n",
       "3                Song of the South  Nov 12, 1946  Adventure           G   \n",
       "4                       Cinderella  Feb 15, 1950      Drama           G   \n",
       "\n",
       "    total_gross inflation_adjusted_gross  \n",
       "0  $184,925,485           $5,228,953,251  \n",
       "1   $84,300,000           $2,188,229,052  \n",
       "2   $83,320,000           $2,187,090,808  \n",
       "3   $65,000,000           $1,078,510,579  \n",
       "4   $85,000,000             $920,608,730  "
      ]
     },
     "execution_count": 7,
     "metadata": {},
     "output_type": "execute_result"
    }
   ],
   "source": [
    "movies_total_gross.head()"
   ]
  },
  {
   "cell_type": "markdown",
   "metadata": {},
   "source": [
    "Table 1. Disney movies Total and adjusted gross"
   ]
  },
  {
   "cell_type": "markdown",
   "metadata": {},
   "source": [
    "The movies_total_gross dataset has 6 columns; movie_title, release_date, genre, MPAA_rating, total_gross, and inflation_adjusted_gross."
   ]
  },
  {
   "cell_type": "code",
   "execution_count": 8,
   "metadata": {},
   "outputs": [
    {
     "data": {
      "text/html": [
       "<div>\n",
       "<style scoped>\n",
       "    .dataframe tbody tr th:only-of-type {\n",
       "        vertical-align: middle;\n",
       "    }\n",
       "\n",
       "    .dataframe tbody tr th {\n",
       "        vertical-align: top;\n",
       "    }\n",
       "\n",
       "    .dataframe thead th {\n",
       "        text-align: right;\n",
       "    }\n",
       "</style>\n",
       "<table border=\"1\" class=\"dataframe\">\n",
       "  <thead>\n",
       "    <tr style=\"text-align: right;\">\n",
       "      <th></th>\n",
       "      <th>name</th>\n",
       "      <th>director</th>\n",
       "    </tr>\n",
       "  </thead>\n",
       "  <tbody>\n",
       "    <tr>\n",
       "      <th>0</th>\n",
       "      <td>Snow White and the Seven Dwarfs</td>\n",
       "      <td>David Hand</td>\n",
       "    </tr>\n",
       "    <tr>\n",
       "      <th>1</th>\n",
       "      <td>Pinocchio</td>\n",
       "      <td>Ben Sharpsteen</td>\n",
       "    </tr>\n",
       "    <tr>\n",
       "      <th>2</th>\n",
       "      <td>Fantasia</td>\n",
       "      <td>full credits</td>\n",
       "    </tr>\n",
       "    <tr>\n",
       "      <th>3</th>\n",
       "      <td>Dumbo</td>\n",
       "      <td>Ben Sharpsteen</td>\n",
       "    </tr>\n",
       "    <tr>\n",
       "      <th>4</th>\n",
       "      <td>Bambi</td>\n",
       "      <td>David Hand</td>\n",
       "    </tr>\n",
       "  </tbody>\n",
       "</table>\n",
       "</div>"
      ],
      "text/plain": [
       "                              name        director\n",
       "0  Snow White and the Seven Dwarfs      David Hand\n",
       "1                        Pinocchio  Ben Sharpsteen\n",
       "2                         Fantasia    full credits\n",
       "3                            Dumbo  Ben Sharpsteen\n",
       "4                            Bambi      David Hand"
      ]
     },
     "execution_count": 8,
     "metadata": {},
     "output_type": "execute_result"
    }
   ],
   "source": [
    "disney_directors.head()"
   ]
  },
  {
   "cell_type": "markdown",
   "metadata": {},
   "source": [
    "Table 2. Disney Movie Directors"
   ]
  },
  {
   "cell_type": "markdown",
   "metadata": {},
   "source": [
    "The disney_directos dataset had 2 columns; name and director. "
   ]
  },
  {
   "cell_type": "code",
   "execution_count": 9,
   "metadata": {},
   "outputs": [
    {
     "name": "stdout",
     "output_type": "stream",
     "text": [
      "<class 'pandas.core.frame.DataFrame'>\n",
      "RangeIndex: 579 entries, 0 to 578\n",
      "Data columns (total 6 columns):\n",
      " #   Column                    Non-Null Count  Dtype \n",
      "---  ------                    --------------  ----- \n",
      " 0   movie_title               579 non-null    object\n",
      " 1   release_date              579 non-null    object\n",
      " 2   genre                     562 non-null    object\n",
      " 3   MPAA_rating               523 non-null    object\n",
      " 4   total_gross               579 non-null    object\n",
      " 5   inflation_adjusted_gross  579 non-null    object\n",
      "dtypes: object(6)\n",
      "memory usage: 27.3+ KB\n"
     ]
    }
   ],
   "source": [
    "movies_total_gross.info()"
   ]
  },
  {
   "cell_type": "markdown",
   "metadata": {},
   "source": [
    "There are 579 rows and 6 columns for the movies_total_gross dataset. "
   ]
  },
  {
   "cell_type": "code",
   "execution_count": 10,
   "metadata": {},
   "outputs": [
    {
     "name": "stdout",
     "output_type": "stream",
     "text": [
      "<class 'pandas.core.frame.DataFrame'>\n",
      "RangeIndex: 56 entries, 0 to 55\n",
      "Data columns (total 2 columns):\n",
      " #   Column    Non-Null Count  Dtype \n",
      "---  ------    --------------  ----- \n",
      " 0   name      56 non-null     object\n",
      " 1   director  56 non-null     object\n",
      "dtypes: object(2)\n",
      "memory usage: 1.0+ KB\n"
     ]
    }
   ],
   "source": [
    "disney_directors.info()"
   ]
  },
  {
   "cell_type": "markdown",
   "metadata": {},
   "source": [
    "The disney_directors dataset has 56 rows and 2 columns."
   ]
  },
  {
   "cell_type": "markdown",
   "metadata": {},
   "source": [
    "I want to visualize which genre of disney movie has the highest average gross. I will use the inflation_adjusted_gross column from the movies_total_gross dataset since these values account for inflation and many of the disney movies were released many years ago. \n",
    "\n",
    "First I have to convert the dtype of the inflation_adjusted_gross from object to int."
   ]
  },
  {
   "cell_type": "code",
   "execution_count": 11,
   "metadata": {
    "tags": [
     "hide-output"
    ]
   },
   "outputs": [
    {
     "name": "stderr",
     "output_type": "stream",
     "text": [
      "C:\\Users\\ichir\\AppData\\Local\\Temp\\ipykernel_31912\\147962967.py:3: FutureWarning: The default value of regex will change from True to False in a future version. In addition, single character regular expressions will *not* be treated as literal strings when regex=True.\n",
      "  movies_total_gross['inflation_adjusted_gross'] = movies_total_gross['inflation_adjusted_gross'].str.replace('$','')\n"
     ]
    }
   ],
   "source": [
    "# Remove commas and symbols from inflation_adjusted_gross so we can convert str to numerical\n",
    "movies_total_gross['inflation_adjusted_gross'] = movies_total_gross['inflation_adjusted_gross'].str.replace(',','')\n",
    "movies_total_gross['inflation_adjusted_gross'] = movies_total_gross['inflation_adjusted_gross'].str.replace('$','')"
   ]
  },
  {
   "cell_type": "code",
   "execution_count": 12,
   "metadata": {},
   "outputs": [],
   "source": [
    "# Change inflation_adjusted_gross to numerical dtype so we can average it\n",
    "movies_total_gross['inflation_adjusted_gross'] = pd.to_numeric(movies_total_gross['inflation_adjusted_gross'])\n"
   ]
  },
  {
   "cell_type": "markdown",
   "metadata": {},
   "source": [
    "Now I will group the data by genre and average the gross after adjusted for inflation."
   ]
  },
  {
   "cell_type": "code",
   "execution_count": 13,
   "metadata": {},
   "outputs": [
    {
     "data": {
      "text/html": [
       "<div>\n",
       "<style scoped>\n",
       "    .dataframe tbody tr th:only-of-type {\n",
       "        vertical-align: middle;\n",
       "    }\n",
       "\n",
       "    .dataframe tbody tr th {\n",
       "        vertical-align: top;\n",
       "    }\n",
       "\n",
       "    .dataframe thead th {\n",
       "        text-align: right;\n",
       "    }\n",
       "</style>\n",
       "<table border=\"1\" class=\"dataframe\">\n",
       "  <thead>\n",
       "    <tr style=\"text-align: right;\">\n",
       "      <th></th>\n",
       "      <th>genre</th>\n",
       "      <th>inflation_adjusted_gross</th>\n",
       "    </tr>\n",
       "  </thead>\n",
       "  <tbody>\n",
       "    <tr>\n",
       "      <th>0</th>\n",
       "      <td>Musical</td>\n",
       "      <td>6.035979e+08</td>\n",
       "    </tr>\n",
       "    <tr>\n",
       "      <th>1</th>\n",
       "      <td>Adventure</td>\n",
       "      <td>1.903974e+08</td>\n",
       "    </tr>\n",
       "    <tr>\n",
       "      <th>2</th>\n",
       "      <td>Action</td>\n",
       "      <td>1.374734e+08</td>\n",
       "    </tr>\n",
       "    <tr>\n",
       "      <th>3</th>\n",
       "      <td>Thriller/Suspense</td>\n",
       "      <td>8.965379e+07</td>\n",
       "    </tr>\n",
       "    <tr>\n",
       "      <th>4</th>\n",
       "      <td>Comedy</td>\n",
       "      <td>8.466773e+07</td>\n",
       "    </tr>\n",
       "    <tr>\n",
       "      <th>5</th>\n",
       "      <td>Romantic Comedy</td>\n",
       "      <td>7.777708e+07</td>\n",
       "    </tr>\n",
       "    <tr>\n",
       "      <th>6</th>\n",
       "      <td>Western</td>\n",
       "      <td>7.381571e+07</td>\n",
       "    </tr>\n",
       "    <tr>\n",
       "      <th>7</th>\n",
       "      <td>Drama</td>\n",
       "      <td>7.189302e+07</td>\n",
       "    </tr>\n",
       "    <tr>\n",
       "      <th>8</th>\n",
       "      <td>Concert/Performance</td>\n",
       "      <td>5.741084e+07</td>\n",
       "    </tr>\n",
       "    <tr>\n",
       "      <th>9</th>\n",
       "      <td>Black Comedy</td>\n",
       "      <td>5.224349e+07</td>\n",
       "    </tr>\n",
       "    <tr>\n",
       "      <th>10</th>\n",
       "      <td>Horror</td>\n",
       "      <td>2.341385e+07</td>\n",
       "    </tr>\n",
       "    <tr>\n",
       "      <th>11</th>\n",
       "      <td>Documentary</td>\n",
       "      <td>1.271803e+07</td>\n",
       "    </tr>\n",
       "  </tbody>\n",
       "</table>\n",
       "</div>"
      ],
      "text/plain": [
       "                  genre  inflation_adjusted_gross\n",
       "0               Musical              6.035979e+08\n",
       "1             Adventure              1.903974e+08\n",
       "2                Action              1.374734e+08\n",
       "3     Thriller/Suspense              8.965379e+07\n",
       "4                Comedy              8.466773e+07\n",
       "5       Romantic Comedy              7.777708e+07\n",
       "6               Western              7.381571e+07\n",
       "7                 Drama              7.189302e+07\n",
       "8   Concert/Performance              5.741084e+07\n",
       "9          Black Comedy              5.224349e+07\n",
       "10               Horror              2.341385e+07\n",
       "11          Documentary              1.271803e+07"
      ]
     },
     "execution_count": 13,
     "metadata": {},
     "output_type": "execute_result"
    }
   ],
   "source": [
    "# Group by genre and determine average gross\n",
    "genre_avg_gross = pd.DataFrame(movies_total_gross.groupby('genre')['inflation_adjusted_gross'].mean().sort_values(ascending = False))\n",
    "\n",
    "genre_avg_gross = genre_avg_gross.reset_index()\n",
    "\n",
    "genre_avg_gross\n"
   ]
  },
  {
   "cell_type": "markdown",
   "metadata": {},
   "source": [
    "Table 3. Average Adjusted gross of disney movies sorted by genre "
   ]
  },
  {
   "cell_type": "markdown",
   "metadata": {},
   "source": [
    "Now I am ready to visualize the data. I can make a bar plot to see which genre of disney movie has the highest average gross. "
   ]
  },
  {
   "cell_type": "code",
   "execution_count": 14,
   "metadata": {
    "tags": [
     "hide-input"
    ]
   },
   "outputs": [
    {
     "data": {
      "text/html": [
       "\n",
       "<div id=\"altair-viz-f73233da1bd54abc873d61efbca58086\"></div>\n",
       "<script type=\"text/javascript\">\n",
       "  var VEGA_DEBUG = (typeof VEGA_DEBUG == \"undefined\") ? {} : VEGA_DEBUG;\n",
       "  (function(spec, embedOpt){\n",
       "    let outputDiv = document.currentScript.previousElementSibling;\n",
       "    if (outputDiv.id !== \"altair-viz-f73233da1bd54abc873d61efbca58086\") {\n",
       "      outputDiv = document.getElementById(\"altair-viz-f73233da1bd54abc873d61efbca58086\");\n",
       "    }\n",
       "    const paths = {\n",
       "      \"vega\": \"https://cdn.jsdelivr.net/npm//vega@5?noext\",\n",
       "      \"vega-lib\": \"https://cdn.jsdelivr.net/npm//vega-lib?noext\",\n",
       "      \"vega-lite\": \"https://cdn.jsdelivr.net/npm//vega-lite@4.17.0?noext\",\n",
       "      \"vega-embed\": \"https://cdn.jsdelivr.net/npm//vega-embed@6?noext\",\n",
       "    };\n",
       "\n",
       "    function maybeLoadScript(lib, version) {\n",
       "      var key = `${lib.replace(\"-\", \"\")}_version`;\n",
       "      return (VEGA_DEBUG[key] == version) ?\n",
       "        Promise.resolve(paths[lib]) :\n",
       "        new Promise(function(resolve, reject) {\n",
       "          var s = document.createElement('script');\n",
       "          document.getElementsByTagName(\"head\")[0].appendChild(s);\n",
       "          s.async = true;\n",
       "          s.onload = () => {\n",
       "            VEGA_DEBUG[key] = version;\n",
       "            return resolve(paths[lib]);\n",
       "          };\n",
       "          s.onerror = () => reject(`Error loading script: ${paths[lib]}`);\n",
       "          s.src = paths[lib];\n",
       "        });\n",
       "    }\n",
       "\n",
       "    function showError(err) {\n",
       "      outputDiv.innerHTML = `<div class=\"error\" style=\"color:red;\">${err}</div>`;\n",
       "      throw err;\n",
       "    }\n",
       "\n",
       "    function displayChart(vegaEmbed) {\n",
       "      vegaEmbed(outputDiv, spec, embedOpt)\n",
       "        .catch(err => showError(`Javascript Error: ${err.message}<br>This usually means there's a typo in your chart specification. See the javascript console for the full traceback.`));\n",
       "    }\n",
       "\n",
       "    if(typeof define === \"function\" && define.amd) {\n",
       "      requirejs.config({paths});\n",
       "      require([\"vega-embed\"], displayChart, err => showError(`Error loading script: ${err.message}`));\n",
       "    } else {\n",
       "      maybeLoadScript(\"vega\", \"5\")\n",
       "        .then(() => maybeLoadScript(\"vega-lite\", \"4.17.0\"))\n",
       "        .then(() => maybeLoadScript(\"vega-embed\", \"6\"))\n",
       "        .catch(showError)\n",
       "        .then(() => displayChart(vegaEmbed));\n",
       "    }\n",
       "  })({\"config\": {\"view\": {\"continuousWidth\": 400, \"continuousHeight\": 300}}, \"data\": {\"name\": \"data-18dda85fad336e17ac8911b580eaa152\"}, \"mark\": \"bar\", \"encoding\": {\"x\": {\"field\": \"genre\", \"sort\": \"-y\", \"title\": \"Genre\", \"type\": \"nominal\"}, \"y\": {\"field\": \"inflation_adjusted_gross\", \"title\": \"Average Adjusted Gross\", \"type\": \"quantitative\"}}, \"height\": 300, \"title\": \"Average Adjusted Gross of Disney Films by Genre\", \"width\": 500, \"$schema\": \"https://vega.github.io/schema/vega-lite/v4.17.0.json\", \"datasets\": {\"data-18dda85fad336e17ac8911b580eaa152\": [{\"genre\": \"Musical\", \"inflation_adjusted_gross\": 603597861.0}, {\"genre\": \"Adventure\", \"inflation_adjusted_gross\": 190397412.0775194}, {\"genre\": \"Action\", \"inflation_adjusted_gross\": 137473419.65}, {\"genre\": \"Thriller/Suspense\", \"inflation_adjusted_gross\": 89653789.75}, {\"genre\": \"Comedy\", \"inflation_adjusted_gross\": 84667730.29120879}, {\"genre\": \"Romantic Comedy\", \"inflation_adjusted_gross\": 77777084.04347827}, {\"genre\": \"Western\", \"inflation_adjusted_gross\": 73815706.57142857}, {\"genre\": \"Drama\", \"inflation_adjusted_gross\": 71893021.78947368}, {\"genre\": \"Concert/Performance\", \"inflation_adjusted_gross\": 57410839.0}, {\"genre\": \"Black Comedy\", \"inflation_adjusted_gross\": 52243491.666666664}, {\"genre\": \"Horror\", \"inflation_adjusted_gross\": 23413848.666666668}, {\"genre\": \"Documentary\", \"inflation_adjusted_gross\": 12718026.125}]}}, {\"mode\": \"vega-lite\"});\n",
       "</script>"
      ],
      "text/plain": [
       "alt.Chart(...)"
      ]
     },
     "execution_count": 14,
     "metadata": {},
     "output_type": "execute_result"
    }
   ],
   "source": [
    "# Use altair to generate a bar plot\n",
    "genre_gross_plot = (\n",
    "    alt.Chart(genre_avg_gross, width=500, height=300)\n",
    "    .mark_bar()\n",
    "    .encode(\n",
    "        x=alt.X(\"genre:N\", sort='-y', title=\"Genre\"),\n",
    "        y=alt.Y(\"inflation_adjusted_gross:Q\", title=\"Average Adjusted Gross\"),\n",
    "    )\n",
    "    .properties(title=\"Average Adjusted Gross of Disney Films by Genre\")\n",
    ")\n",
    "genre_gross_plot"
   ]
  },
  {
   "cell_type": "markdown",
   "metadata": {},
   "source": [
    "Figure 1. Bar graph of Average Adjusted Gross of Disney Films By Genere "
   ]
  },
  {
   "cell_type": "markdown",
   "metadata": {},
   "source": [
    "Here we can see that disney musicals have a significantly higher gross than other disney movie genres. "
   ]
  },
  {
   "cell_type": "markdown",
   "metadata": {},
   "source": [
    "Now I will combine the disney_directors and movies_total_gross datasets, group the new combined dataset by director and average the inflation_adjusted_gross with a custom function."
   ]
  },
  {
   "cell_type": "code",
   "execution_count": 17,
   "metadata": {},
   "outputs": [],
   "source": [
    "# Import the custom function\n",
    "from function import merge_group_avg"
   ]
  },
  {
   "cell_type": "code",
   "execution_count": 18,
   "metadata": {},
   "outputs": [
    {
     "data": {
      "text/html": [
       "<div>\n",
       "<style scoped>\n",
       "    .dataframe tbody tr th:only-of-type {\n",
       "        vertical-align: middle;\n",
       "    }\n",
       "\n",
       "    .dataframe tbody tr th {\n",
       "        vertical-align: top;\n",
       "    }\n",
       "\n",
       "    .dataframe thead th {\n",
       "        text-align: right;\n",
       "    }\n",
       "</style>\n",
       "<table border=\"1\" class=\"dataframe\">\n",
       "  <thead>\n",
       "    <tr style=\"text-align: right;\">\n",
       "      <th></th>\n",
       "      <th>director</th>\n",
       "      <th>inflation_adjusted_gross</th>\n",
       "    </tr>\n",
       "  </thead>\n",
       "  <tbody>\n",
       "    <tr>\n",
       "      <th>0</th>\n",
       "      <td>David Hand</td>\n",
       "      <td>3.074781e+09</td>\n",
       "    </tr>\n",
       "    <tr>\n",
       "      <th>1</th>\n",
       "      <td>Ben Sharpsteen</td>\n",
       "      <td>1.633370e+09</td>\n",
       "    </tr>\n",
       "    <tr>\n",
       "      <th>2</th>\n",
       "      <td>Norman Ferguson</td>\n",
       "      <td>1.236036e+09</td>\n",
       "    </tr>\n",
       "    <tr>\n",
       "      <th>3</th>\n",
       "      <td>full credits</td>\n",
       "      <td>1.172074e+09</td>\n",
       "    </tr>\n",
       "    <tr>\n",
       "      <th>4</th>\n",
       "      <td>Jack Kinney</td>\n",
       "      <td>5.093745e+08</td>\n",
       "    </tr>\n",
       "    <tr>\n",
       "      <th>5</th>\n",
       "      <td>Hamilton Luske</td>\n",
       "      <td>4.641125e+08</td>\n",
       "    </tr>\n",
       "    <tr>\n",
       "      <th>6</th>\n",
       "      <td>Clyde Geronimi</td>\n",
       "      <td>2.397090e+08</td>\n",
       "    </tr>\n",
       "    <tr>\n",
       "      <th>7</th>\n",
       "      <td>Chris Williams</td>\n",
       "      <td>1.627487e+08</td>\n",
       "    </tr>\n",
       "    <tr>\n",
       "      <th>8</th>\n",
       "      <td>Art Stevens</td>\n",
       "      <td>1.203774e+08</td>\n",
       "    </tr>\n",
       "    <tr>\n",
       "      <th>9</th>\n",
       "      <td>Rich Moore</td>\n",
       "      <td>1.179573e+08</td>\n",
       "    </tr>\n",
       "    <tr>\n",
       "      <th>10</th>\n",
       "      <td>Wilfred Jackson</td>\n",
       "      <td>1.095816e+08</td>\n",
       "    </tr>\n",
       "    <tr>\n",
       "      <th>11</th>\n",
       "      <td>Wolfgang Reitherman</td>\n",
       "      <td>9.820175e+07</td>\n",
       "    </tr>\n",
       "    <tr>\n",
       "      <th>12</th>\n",
       "      <td>Mark Dindal</td>\n",
       "      <td>8.754220e+07</td>\n",
       "    </tr>\n",
       "    <tr>\n",
       "      <th>13</th>\n",
       "      <td>Roger Allers</td>\n",
       "      <td>7.718490e+07</td>\n",
       "    </tr>\n",
       "    <tr>\n",
       "      <th>14</th>\n",
       "      <td>Mike Gabriel</td>\n",
       "      <td>7.688104e+07</td>\n",
       "    </tr>\n",
       "    <tr>\n",
       "      <th>15</th>\n",
       "      <td>Barry Cook</td>\n",
       "      <td>7.066996e+07</td>\n",
       "    </tr>\n",
       "    <tr>\n",
       "      <th>16</th>\n",
       "      <td>Chris Buck</td>\n",
       "      <td>5.860032e+07</td>\n",
       "    </tr>\n",
       "    <tr>\n",
       "      <th>17</th>\n",
       "      <td>Don Hall</td>\n",
       "      <td>5.478720e+07</td>\n",
       "    </tr>\n",
       "    <tr>\n",
       "      <th>18</th>\n",
       "      <td>Byron Howard</td>\n",
       "      <td>5.068646e+07</td>\n",
       "    </tr>\n",
       "    <tr>\n",
       "      <th>19</th>\n",
       "      <td>Chris Sanders</td>\n",
       "      <td>5.055314e+07</td>\n",
       "    </tr>\n",
       "    <tr>\n",
       "      <th>20</th>\n",
       "      <td>George Scribner</td>\n",
       "      <td>4.851798e+07</td>\n",
       "    </tr>\n",
       "    <tr>\n",
       "      <th>21</th>\n",
       "      <td>Nathan Greno</td>\n",
       "      <td>4.218320e+07</td>\n",
       "    </tr>\n",
       "    <tr>\n",
       "      <th>22</th>\n",
       "      <td>Will Finn</td>\n",
       "      <td>3.141543e+07</td>\n",
       "    </tr>\n",
       "    <tr>\n",
       "      <th>23</th>\n",
       "      <td>Stephen J. Anderson</td>\n",
       "      <td>2.988106e+07</td>\n",
       "    </tr>\n",
       "    <tr>\n",
       "      <th>24</th>\n",
       "      <td>Ron Clements</td>\n",
       "      <td>2.266911e+07</td>\n",
       "    </tr>\n",
       "    <tr>\n",
       "      <th>25</th>\n",
       "      <td>Robert Walker</td>\n",
       "      <td>2.230296e+07</td>\n",
       "    </tr>\n",
       "    <tr>\n",
       "      <th>26</th>\n",
       "      <td>Ralph Zondag</td>\n",
       "      <td>2.107500e+07</td>\n",
       "    </tr>\n",
       "    <tr>\n",
       "      <th>27</th>\n",
       "      <td>Gary Trousdale</td>\n",
       "      <td>1.224501e+07</td>\n",
       "    </tr>\n",
       "    <tr>\n",
       "      <th>28</th>\n",
       "      <td>Ted Berman</td>\n",
       "      <td>9.088096e+06</td>\n",
       "    </tr>\n",
       "  </tbody>\n",
       "</table>\n",
       "</div>"
      ],
      "text/plain": [
       "               director  inflation_adjusted_gross\n",
       "0            David Hand              3.074781e+09\n",
       "1        Ben Sharpsteen              1.633370e+09\n",
       "2       Norman Ferguson              1.236036e+09\n",
       "3          full credits              1.172074e+09\n",
       "4           Jack Kinney              5.093745e+08\n",
       "5        Hamilton Luske              4.641125e+08\n",
       "6        Clyde Geronimi              2.397090e+08\n",
       "7        Chris Williams              1.627487e+08\n",
       "8           Art Stevens              1.203774e+08\n",
       "9            Rich Moore              1.179573e+08\n",
       "10      Wilfred Jackson              1.095816e+08\n",
       "11  Wolfgang Reitherman              9.820175e+07\n",
       "12          Mark Dindal              8.754220e+07\n",
       "13         Roger Allers              7.718490e+07\n",
       "14         Mike Gabriel              7.688104e+07\n",
       "15           Barry Cook              7.066996e+07\n",
       "16           Chris Buck              5.860032e+07\n",
       "17             Don Hall              5.478720e+07\n",
       "18         Byron Howard              5.068646e+07\n",
       "19        Chris Sanders              5.055314e+07\n",
       "20      George Scribner              4.851798e+07\n",
       "21         Nathan Greno              4.218320e+07\n",
       "22            Will Finn              3.141543e+07\n",
       "23  Stephen J. Anderson              2.988106e+07\n",
       "24         Ron Clements              2.266911e+07\n",
       "25        Robert Walker              2.230296e+07\n",
       "26         Ralph Zondag              2.107500e+07\n",
       "27       Gary Trousdale              1.224501e+07\n",
       "28           Ted Berman              9.088096e+06"
      ]
     },
     "execution_count": 18,
     "metadata": {},
     "output_type": "execute_result"
    }
   ],
   "source": [
    "# Running the custom funtion on the datasets\n",
    "director_gross = merge_group_avg(disney_directors, movies_total_gross, 'director', 'inflation_adjusted_gross')\n",
    "director_gross"
   ]
  },
  {
   "cell_type": "markdown",
   "metadata": {},
   "source": [
    "Table 4. Disney Directors Average Adjusted gross of their Disney Movies"
   ]
  },
  {
   "cell_type": "markdown",
   "metadata": {},
   "source": [
    "Now I have a dataset with the disney directors and their average gross from their disneys movies after inflation. \n",
    "\n",
    "I can plot this to visualize this with a bar plot"
   ]
  },
  {
   "cell_type": "code",
   "execution_count": 19,
   "metadata": {
    "tags": [
     "hide-input"
    ]
   },
   "outputs": [
    {
     "data": {
      "text/html": [
       "\n",
       "<div id=\"altair-viz-a3500445fcc14ee2ab727d5021e22d77\"></div>\n",
       "<script type=\"text/javascript\">\n",
       "  var VEGA_DEBUG = (typeof VEGA_DEBUG == \"undefined\") ? {} : VEGA_DEBUG;\n",
       "  (function(spec, embedOpt){\n",
       "    let outputDiv = document.currentScript.previousElementSibling;\n",
       "    if (outputDiv.id !== \"altair-viz-a3500445fcc14ee2ab727d5021e22d77\") {\n",
       "      outputDiv = document.getElementById(\"altair-viz-a3500445fcc14ee2ab727d5021e22d77\");\n",
       "    }\n",
       "    const paths = {\n",
       "      \"vega\": \"https://cdn.jsdelivr.net/npm//vega@5?noext\",\n",
       "      \"vega-lib\": \"https://cdn.jsdelivr.net/npm//vega-lib?noext\",\n",
       "      \"vega-lite\": \"https://cdn.jsdelivr.net/npm//vega-lite@4.17.0?noext\",\n",
       "      \"vega-embed\": \"https://cdn.jsdelivr.net/npm//vega-embed@6?noext\",\n",
       "    };\n",
       "\n",
       "    function maybeLoadScript(lib, version) {\n",
       "      var key = `${lib.replace(\"-\", \"\")}_version`;\n",
       "      return (VEGA_DEBUG[key] == version) ?\n",
       "        Promise.resolve(paths[lib]) :\n",
       "        new Promise(function(resolve, reject) {\n",
       "          var s = document.createElement('script');\n",
       "          document.getElementsByTagName(\"head\")[0].appendChild(s);\n",
       "          s.async = true;\n",
       "          s.onload = () => {\n",
       "            VEGA_DEBUG[key] = version;\n",
       "            return resolve(paths[lib]);\n",
       "          };\n",
       "          s.onerror = () => reject(`Error loading script: ${paths[lib]}`);\n",
       "          s.src = paths[lib];\n",
       "        });\n",
       "    }\n",
       "\n",
       "    function showError(err) {\n",
       "      outputDiv.innerHTML = `<div class=\"error\" style=\"color:red;\">${err}</div>`;\n",
       "      throw err;\n",
       "    }\n",
       "\n",
       "    function displayChart(vegaEmbed) {\n",
       "      vegaEmbed(outputDiv, spec, embedOpt)\n",
       "        .catch(err => showError(`Javascript Error: ${err.message}<br>This usually means there's a typo in your chart specification. See the javascript console for the full traceback.`));\n",
       "    }\n",
       "\n",
       "    if(typeof define === \"function\" && define.amd) {\n",
       "      requirejs.config({paths});\n",
       "      require([\"vega-embed\"], displayChart, err => showError(`Error loading script: ${err.message}`));\n",
       "    } else {\n",
       "      maybeLoadScript(\"vega\", \"5\")\n",
       "        .then(() => maybeLoadScript(\"vega-lite\", \"4.17.0\"))\n",
       "        .then(() => maybeLoadScript(\"vega-embed\", \"6\"))\n",
       "        .catch(showError)\n",
       "        .then(() => displayChart(vegaEmbed));\n",
       "    }\n",
       "  })({\"config\": {\"view\": {\"continuousWidth\": 400, \"continuousHeight\": 300}}, \"data\": {\"name\": \"data-00785de54d6c471e77ec6d56d1247f80\"}, \"mark\": \"bar\", \"encoding\": {\"x\": {\"field\": \"director\", \"sort\": \"-y\", \"title\": \"Director\", \"type\": \"nominal\"}, \"y\": {\"field\": \"inflation_adjusted_gross\", \"title\": \"Average Adjusted Gross\", \"type\": \"quantitative\"}}, \"height\": 300, \"title\": \"Average Adjusted Gross by Disney Director\", \"width\": 500, \"$schema\": \"https://vega.github.io/schema/vega-lite/v4.17.0.json\", \"datasets\": {\"data-00785de54d6c471e77ec6d56d1247f80\": [{\"director\": \"David Hand\", \"inflation_adjusted_gross\": 3074780990.5}, {\"director\": \"Ben Sharpsteen\", \"inflation_adjusted_gross\": 1633369815.5}, {\"director\": \"Norman Ferguson\", \"inflation_adjusted_gross\": 1236035515.0}, {\"director\": \"full credits\", \"inflation_adjusted_gross\": 1172074234.5}, {\"director\": \"Jack Kinney\", \"inflation_adjusted_gross\": 509374492.75}, {\"director\": \"Hamilton Luske\", \"inflation_adjusted_gross\": 464112516.0}, {\"director\": \"Clyde Geronimi\", \"inflation_adjusted_gross\": 239708969.0}, {\"director\": \"Chris Williams\", \"inflation_adjusted_gross\": 162748712.0}, {\"director\": \"Art Stevens\", \"inflation_adjusted_gross\": 120377374.0}, {\"director\": \"Rich Moore\", \"inflation_adjusted_gross\": 117957323.0}, {\"director\": \"Wilfred Jackson\", \"inflation_adjusted_gross\": 109581646.0}, {\"director\": \"Wolfgang Reitherman\", \"inflation_adjusted_gross\": 98201748.0}, {\"director\": \"Mark Dindal\", \"inflation_adjusted_gross\": 87542195.0}, {\"director\": \"Roger Allers\", \"inflation_adjusted_gross\": 77184895.0}, {\"director\": \"Mike Gabriel\", \"inflation_adjusted_gross\": 76881044.0}, {\"director\": \"Barry Cook\", \"inflation_adjusted_gross\": 70669955.0}, {\"director\": \"Chris Buck\", \"inflation_adjusted_gross\": 58600323.0}, {\"director\": \"Don Hall\", \"inflation_adjusted_gross\": 54787202.0}, {\"director\": \"Byron Howard\", \"inflation_adjusted_gross\": 50686462.0}, {\"director\": \"Chris Sanders\", \"inflation_adjusted_gross\": 50553142.0}, {\"director\": \"George Scribner\", \"inflation_adjusted_gross\": 48517980.0}, {\"director\": \"Nathan Greno\", \"inflation_adjusted_gross\": 42183197.0}, {\"director\": \"Will Finn\", \"inflation_adjusted_gross\": 31415432.0}, {\"director\": \"Stephen J. Anderson\", \"inflation_adjusted_gross\": 29881058.0}, {\"director\": \"Ron Clements\", \"inflation_adjusted_gross\": 22669105.714285713}, {\"director\": \"Robert Walker\", \"inflation_adjusted_gross\": 22302956.0}, {\"director\": \"Ralph Zondag\", \"inflation_adjusted_gross\": 21075000.0}, {\"director\": \"Gary Trousdale\", \"inflation_adjusted_gross\": 12245007.666666666}, {\"director\": \"Ted Berman\", \"inflation_adjusted_gross\": 9088096.0}]}}, {\"mode\": \"vega-lite\"});\n",
       "</script>"
      ],
      "text/plain": [
       "alt.Chart(...)"
      ]
     },
     "execution_count": 19,
     "metadata": {},
     "output_type": "execute_result"
    }
   ],
   "source": [
    "# Visualize the Disney directors with the highest average gross from their Disney films\n",
    "director_gross_plot = (\n",
    "    alt.Chart(director_gross, width=500, height=300)\n",
    "    .mark_bar()\n",
    "    .encode(\n",
    "        x=alt.X(\"director:N\", sort='-y', title=\"Director\"),\n",
    "        y=alt.Y(\"inflation_adjusted_gross:Q\", title=\"Average Adjusted Gross\"),\n",
    "    )\n",
    "    .properties(title=\"Average Adjusted Gross by Disney Director\")\n",
    ")\n",
    "director_gross_plot"
   ]
  },
  {
   "cell_type": "markdown",
   "metadata": {},
   "source": [
    "Figure 2. Bar chart of Disney Directors Average Adjusted gross of their Disney Movies"
   ]
  },
  {
   "attachments": {},
   "cell_type": "markdown",
   "metadata": {},
   "source": [
    "## Discussions"
   ]
  },
  {
   "cell_type": "markdown",
   "metadata": {},
   "source": [
    "I analyzed the Disney movie datasets and tried to determine which disney directors movies had the highest average gross. I looked at the adjusted gross after inflation since many of the disney movies where released in the mid 1900s and the adjusted gross would be more relevant than looking at the total gross. First I checked which genre of disney movie has the highest average gross after inflation. I wanted to look at this because there are many factors which can influence a movies gross. Disney musicals where significantly higher grossing on average. This was not too suprising since there are many popular disney musicals. However, what was suprising was the magnitude of difference between Disney musicals and Disney adventures, the second highest average grossing genre. Disney musicals were on average more than three times higher grossing than Disney adventures. \n",
    "\n",
    "David Hand on had the highest average grossing of his disney movies. This was about Two times greater than the next director with the next highest average grossing disney films. It would be interesting to look further into David Hand's Disney movies and what makes his movies popular. \n",
    "\n",
    "With the directors average gross for their disney films you can further examine his individual films to see if they gross above or below average. This could be helpful for looking at other factor which can effect how much a film may gross. "
   ]
  },
  {
   "attachments": {},
   "cell_type": "markdown",
   "metadata": {},
   "source": [
    "## References"
   ]
  },
  {
   "attachments": {},
   "cell_type": "markdown",
   "metadata": {},
   "source": [
    "online resources used: \n",
    "{cite}'5'\n",
    "{cite}'6'\n"
   ]
  },
  {
   "cell_type": "code",
   "execution_count": null,
   "metadata": {},
   "outputs": [],
   "source": []
  },
  {
   "cell_type": "code",
   "execution_count": null,
   "metadata": {},
   "outputs": [],
   "source": []
  }
 ],
 "metadata": {
  "kernelspec": {
   "display_name": "Python 3 (ipykernel)",
   "language": "python",
   "name": "python3"
  },
  "language_info": {
   "codemirror_mode": {
    "name": "ipython",
    "version": 3
   },
   "file_extension": ".py",
   "mimetype": "text/x-python",
   "name": "python",
   "nbconvert_exporter": "python",
   "pygments_lexer": "ipython3",
   "version": "3.9.12"
  }
 },
 "nbformat": 4,
 "nbformat_minor": 4
}
